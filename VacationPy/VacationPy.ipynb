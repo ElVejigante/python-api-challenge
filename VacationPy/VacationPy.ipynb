{
 "cells": [
  {
   "cell_type": "markdown",
   "metadata": {},
   "source": [
    "# VacationPy\n",
    "----\n",
    "\n",
    "#### Note\n",
    "* Keep an eye on your API usage. Use https://developers.google.com/maps/reporting/gmp-reporting as reference for how to monitor your usage and billing.\n",
    "\n",
    "* Instructions have been included for each segment. You do not have to follow them exactly, but they are included to help you think through the steps."
   ]
  },
  {
   "cell_type": "code",
   "execution_count": 1,
   "metadata": {},
   "outputs": [],
   "source": [
    "# Dependencies and Setup\n",
    "import matplotlib.pyplot as plt\n",
    "import pandas as pd\n",
    "import numpy as np\n",
    "import requests\n",
    "import gmaps\n",
    "import os\n",
    "\n",
    "# Import API key\n",
    "from api_keys import g_key"
   ]
  },
  {
   "cell_type": "markdown",
   "metadata": {},
   "source": [
    "### Store Part I results into DataFrame\n",
    "* Load the csv exported in Part I to a DataFrame"
   ]
  },
  {
   "cell_type": "code",
   "execution_count": 3,
   "metadata": {},
   "outputs": [
    {
     "data": {
      "text/html": [
       "<div>\n",
       "<style scoped>\n",
       "    .dataframe tbody tr th:only-of-type {\n",
       "        vertical-align: middle;\n",
       "    }\n",
       "\n",
       "    .dataframe tbody tr th {\n",
       "        vertical-align: top;\n",
       "    }\n",
       "\n",
       "    .dataframe thead th {\n",
       "        text-align: right;\n",
       "    }\n",
       "</style>\n",
       "<table border=\"1\" class=\"dataframe\">\n",
       "  <thead>\n",
       "    <tr style=\"text-align: right;\">\n",
       "      <th></th>\n",
       "      <th>City</th>\n",
       "      <th>Country</th>\n",
       "      <th>Date</th>\n",
       "      <th>Lat.</th>\n",
       "      <th>Lon.</th>\n",
       "      <th>Max Temp.</th>\n",
       "      <th>Wind Speed</th>\n",
       "      <th>Cloudiness</th>\n",
       "      <th>Humidity</th>\n",
       "    </tr>\n",
       "  </thead>\n",
       "  <tbody>\n",
       "    <tr>\n",
       "      <th>0</th>\n",
       "      <td>kodiak</td>\n",
       "      <td>US</td>\n",
       "      <td>1615676441</td>\n",
       "      <td>57.7900</td>\n",
       "      <td>-152.4072</td>\n",
       "      <td>33.80</td>\n",
       "      <td>18.41</td>\n",
       "      <td>1</td>\n",
       "      <td>29</td>\n",
       "    </tr>\n",
       "    <tr>\n",
       "      <th>1</th>\n",
       "      <td>albany</td>\n",
       "      <td>US</td>\n",
       "      <td>1615676184</td>\n",
       "      <td>42.6001</td>\n",
       "      <td>-73.9662</td>\n",
       "      <td>37.99</td>\n",
       "      <td>6.11</td>\n",
       "      <td>41</td>\n",
       "      <td>28</td>\n",
       "    </tr>\n",
       "    <tr>\n",
       "      <th>2</th>\n",
       "      <td>ribeira grande</td>\n",
       "      <td>ES</td>\n",
       "      <td>1615676442</td>\n",
       "      <td>42.7461</td>\n",
       "      <td>-8.4439</td>\n",
       "      <td>48.20</td>\n",
       "      <td>4.61</td>\n",
       "      <td>75</td>\n",
       "      <td>87</td>\n",
       "    </tr>\n",
       "    <tr>\n",
       "      <th>3</th>\n",
       "      <td>kungurtug</td>\n",
       "      <td>RU</td>\n",
       "      <td>1615676442</td>\n",
       "      <td>50.5994</td>\n",
       "      <td>97.5228</td>\n",
       "      <td>-0.29</td>\n",
       "      <td>15.10</td>\n",
       "      <td>100</td>\n",
       "      <td>61</td>\n",
       "    </tr>\n",
       "    <tr>\n",
       "      <th>4</th>\n",
       "      <td>alta floresta</td>\n",
       "      <td>NO</td>\n",
       "      <td>1615676442</td>\n",
       "      <td>69.9689</td>\n",
       "      <td>23.2717</td>\n",
       "      <td>24.01</td>\n",
       "      <td>2.30</td>\n",
       "      <td>90</td>\n",
       "      <td>93</td>\n",
       "    </tr>\n",
       "  </tbody>\n",
       "</table>\n",
       "</div>"
      ],
      "text/plain": [
       "             City Country        Date     Lat.      Lon.  Max Temp.  \\\n",
       "0          kodiak      US  1615676441  57.7900 -152.4072      33.80   \n",
       "1          albany      US  1615676184  42.6001  -73.9662      37.99   \n",
       "2  ribeira grande      ES  1615676442  42.7461   -8.4439      48.20   \n",
       "3       kungurtug      RU  1615676442  50.5994   97.5228      -0.29   \n",
       "4   alta floresta      NO  1615676442  69.9689   23.2717      24.01   \n",
       "\n",
       "   Wind Speed  Cloudiness  Humidity  \n",
       "0       18.41           1        29  \n",
       "1        6.11          41        28  \n",
       "2        4.61          75        87  \n",
       "3       15.10         100        61  \n",
       "4        2.30          90        93  "
      ]
     },
     "execution_count": 3,
     "metadata": {},
     "output_type": "execute_result"
    }
   ],
   "source": [
    "weather_data_to_load = \"../WeatherPy/weather_df_csv\"\n",
    "weather_data = pd.read_csv(weather_data_to_load)\n",
    "dropna_weather_data = weather_data.dropna()\n",
    "del dropna_weather_data[\"Unnamed: 0\"]\n",
    "dropna_weather_data.head()"
   ]
  },
  {
   "cell_type": "markdown",
   "metadata": {},
   "source": [
    "### Humidity Heatmap\n",
    "* Configure gmaps.\n",
    "* Use the Lat and Lng as locations and Humidity as the weight.\n",
    "* Add Heatmap layer to map."
   ]
  },
  {
   "cell_type": "code",
   "execution_count": 5,
   "metadata": {},
   "outputs": [],
   "source": [
    "# gmaps\n",
    "gmaps.configure(api_key=g_key)\n",
    "\n",
    "# Locations and weight\n",
    "locations = dropna_weather_data[[\"Lat.\", \"Lon.\"]]\n",
    "humidity = dropna_weather_data[\"Humidity\"].astype(float)"
   ]
  },
  {
   "cell_type": "code",
   "execution_count": 6,
   "metadata": {},
   "outputs": [
    {
     "data": {
      "application/vnd.jupyter.widget-view+json": {
       "model_id": "6e6af6be836c4af6a84e296e7577f82e",
       "version_major": 2,
       "version_minor": 0
      },
      "text/plain": [
       "Figure(layout=FigureLayout(height='420px'))"
      ]
     },
     "metadata": {},
     "output_type": "display_data"
    }
   ],
   "source": [
    "# Heatmap\n",
    "fig = gmaps.figure()\n",
    "\n",
    "# Heat layer\n",
    "heat_layer = gmaps.heatmap_layer(locations, weights=humidity, dissipating=False, max_intensity=100, point_radius=2)\n",
    "fig.add_layer(heat_layer)\n",
    "fig"
   ]
  },
  {
   "cell_type": "markdown",
   "metadata": {},
   "source": [
    "### Create new DataFrame fitting weather criteria\n",
    "* Narrow down the cities to fit weather conditions.\n",
    "* Drop any rows will null values."
   ]
  },
  {
   "cell_type": "code",
   "execution_count": 8,
   "metadata": {},
   "outputs": [
    {
     "data": {
      "text/html": [
       "<div>\n",
       "<style scoped>\n",
       "    .dataframe tbody tr th:only-of-type {\n",
       "        vertical-align: middle;\n",
       "    }\n",
       "\n",
       "    .dataframe tbody tr th {\n",
       "        vertical-align: top;\n",
       "    }\n",
       "\n",
       "    .dataframe thead th {\n",
       "        text-align: right;\n",
       "    }\n",
       "</style>\n",
       "<table border=\"1\" class=\"dataframe\">\n",
       "  <thead>\n",
       "    <tr style=\"text-align: right;\">\n",
       "      <th></th>\n",
       "      <th>City</th>\n",
       "      <th>Country</th>\n",
       "      <th>Date</th>\n",
       "      <th>Lat.</th>\n",
       "      <th>Lon.</th>\n",
       "      <th>Max Temp.</th>\n",
       "      <th>Wind Speed</th>\n",
       "      <th>Cloudiness</th>\n",
       "      <th>Humidity</th>\n",
       "    </tr>\n",
       "  </thead>\n",
       "  <tbody>\n",
       "    <tr>\n",
       "      <th>0</th>\n",
       "      <td>mercedes</td>\n",
       "      <td>AR</td>\n",
       "      <td>1615676498</td>\n",
       "      <td>-34.6515</td>\n",
       "      <td>-59.4307</td>\n",
       "      <td>78.01</td>\n",
       "      <td>9.73</td>\n",
       "      <td>0</td>\n",
       "      <td>46</td>\n",
       "    </tr>\n",
       "    <tr>\n",
       "      <th>1</th>\n",
       "      <td>coihaique</td>\n",
       "      <td>CL</td>\n",
       "      <td>1615676503</td>\n",
       "      <td>-45.5752</td>\n",
       "      <td>-72.0662</td>\n",
       "      <td>71.60</td>\n",
       "      <td>6.91</td>\n",
       "      <td>0</td>\n",
       "      <td>37</td>\n",
       "    </tr>\n",
       "    <tr>\n",
       "      <th>2</th>\n",
       "      <td>chiapa</td>\n",
       "      <td>MX</td>\n",
       "      <td>1615676552</td>\n",
       "      <td>18.4669</td>\n",
       "      <td>-96.9450</td>\n",
       "      <td>72.16</td>\n",
       "      <td>5.41</td>\n",
       "      <td>0</td>\n",
       "      <td>46</td>\n",
       "    </tr>\n",
       "  </tbody>\n",
       "</table>\n",
       "</div>"
      ],
      "text/plain": [
       "        City Country        Date     Lat.     Lon.  Max Temp.  Wind Speed  \\\n",
       "0   mercedes      AR  1615676498 -34.6515 -59.4307      78.01        9.73   \n",
       "1  coihaique      CL  1615676503 -45.5752 -72.0662      71.60        6.91   \n",
       "2     chiapa      MX  1615676552  18.4669 -96.9450      72.16        5.41   \n",
       "\n",
       "   Cloudiness  Humidity  \n",
       "0           0        46  \n",
       "1           0        37  \n",
       "2           0        46  "
      ]
     },
     "execution_count": 8,
     "metadata": {},
     "output_type": "execute_result"
    }
   ],
   "source": [
    "# Filter zero cloudiness\n",
    "vacation_no_cloud = dropna_weather_data[dropna_weather_data[\"Cloudiness\"] == 0]\n",
    "# Filter max temp above 70 degrees F\n",
    "vacation_above_70 = vacation_no_cloud[vacation_no_cloud[\"Max Temp.\"] > 70]\n",
    "# Filter max temp below 80 degrees F\n",
    "vacation_below_80 = vacation_above_70[vacation_above_70[\"Max Temp.\"] < 80]\n",
    "# Filter wind speed below 10 mph\n",
    "vacation_low_winds = vacation_below_80[vacation_below_80[\"Wind Speed\"] < 10]\n",
    "# Filter humidity below 60 %\n",
    "best_vacation = vacation_low_winds[vacation_low_winds[\"Humidity\"] < 60]\n",
    "# Set Index\n",
    "indexed_best_vacation = best_vacation.reset_index()\n",
    "del indexed_best_vacation[\"index\"]\n",
    "indexed_best_vacation"
   ]
  },
  {
   "cell_type": "code",
   "execution_count": 10,
   "metadata": {},
   "outputs": [
    {
     "data": {
      "application/vnd.jupyter.widget-view+json": {
       "model_id": "cddfe3fd78324a1b95c257a5655a94e3",
       "version_major": 2,
       "version_minor": 0
      },
      "text/plain": [
       "Figure(layout=FigureLayout(height='420px'))"
      ]
     },
     "metadata": {},
     "output_type": "display_data"
    }
   ],
   "source": [
    "vaca_locations = indexed_best_vacation[[\"Lat.\", \"Lon.\"]]\n",
    "\n",
    "vaca_humidity = indexed_best_vacation[\"Humidity\"].astype(float)\n",
    "\n",
    "# Plot Heatmap\n",
    "vaca_fig = gmaps.figure()\n",
    "\n",
    "# Create heat layer\n",
    "vaca_heat_layer = gmaps.heatmap_layer(vaca_locations, weights=vaca_humidity, dissipating=False, max_intensity=50, point_radius=2.5)\n",
    "vaca_fig.add_layer(vaca_heat_layer)\n",
    "vaca_fig"
   ]
  },
  {
   "cell_type": "markdown",
   "metadata": {},
   "source": [
    "### Hotel Map\n",
    "* Store into variable named `hotel_df`.\n",
    "* Add a \"Hotel Name\" column to the DataFrame.\n",
    "* Set parameters to search for hotels with 5000 meters.\n",
    "* Hit the Google Places API for each city's coordinates.\n",
    "* Store the first Hotel result into the DataFrame.\n",
    "* Plot markers on top of the heatmap."
   ]
  },
  {
   "cell_type": "code",
   "execution_count": null,
   "metadata": {},
   "outputs": [],
   "source": []
  },
  {
   "cell_type": "code",
   "execution_count": null,
   "metadata": {},
   "outputs": [],
   "source": []
  },
  {
   "cell_type": "code",
   "execution_count": null,
   "metadata": {},
   "outputs": [],
   "source": [
    "# NOTE: Do not change any of the code in this cell\n",
    "\n",
    "# Using the template add the hotel marks to the heatmap\n",
    "info_box_template = \"\"\"\n",
    "<dl>\n",
    "<dt>Name</dt><dd>{Hotel Name}</dd>\n",
    "<dt>City</dt><dd>{City}</dd>\n",
    "<dt>Country</dt><dd>{Country}</dd>\n",
    "</dl>\n",
    "\"\"\"\n",
    "# Store the DataFrame Row\n",
    "# NOTE: be sure to update with your DataFrame name\n",
    "hotel_info = [info_box_template.format(**row) for index, row in hotel_df.iterrows()]\n",
    "locations = hotel_df[[\"Lat\", \"Lng\"]]"
   ]
  },
  {
   "cell_type": "code",
   "execution_count": null,
   "metadata": {},
   "outputs": [],
   "source": [
    "# Add marker layer ontop of heat map\n",
    "\n",
    "\n",
    "# Display figure\n"
   ]
  },
  {
   "cell_type": "code",
   "execution_count": null,
   "metadata": {},
   "outputs": [],
   "source": []
  }
 ],
 "metadata": {
  "kernelspec": {
   "display_name": "Python 3",
   "language": "python",
   "name": "python3"
  },
  "language_info": {
   "codemirror_mode": {
    "name": "ipython",
    "version": 3
   },
   "file_extension": ".py",
   "mimetype": "text/x-python",
   "name": "python",
   "nbconvert_exporter": "python",
   "pygments_lexer": "ipython3",
   "version": "3.8.5"
  },
  "latex_envs": {
   "LaTeX_envs_menu_present": true,
   "autoclose": false,
   "autocomplete": true,
   "bibliofile": "biblio.bib",
   "cite_by": "apalike",
   "current_citInitial": 1,
   "eqLabelWithNumbers": true,
   "eqNumInitial": 1,
   "hotkeys": {
    "equation": "Ctrl-E",
    "itemize": "Ctrl-I"
   },
   "labels_anchors": false,
   "latex_user_defs": false,
   "report_style_numbering": false,
   "user_envs_cfg": false
  }
 },
 "nbformat": 4,
 "nbformat_minor": 4
}
